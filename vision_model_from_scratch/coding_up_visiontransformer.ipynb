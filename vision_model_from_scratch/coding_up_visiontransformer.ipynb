{
  "nbformat": 4,
  "nbformat_minor": 0,
  "metadata": {
    "colab": {
      "provenance": [],
      "gpuType": "T4"
    },
    "kernelspec": {
      "name": "python3",
      "display_name": "Python 3"
    },
    "language_info": {
      "name": "python"
    },
    "accelerator": "GPU"
  },
  "cells": [
    {
      "cell_type": "code",
      "execution_count": 2,
      "metadata": {
        "id": "E_ISbAIYO6jL"
      },
      "outputs": [],
      "source": [
        "# imports\n",
        "\n",
        "import torch\n",
        "import torchvision\n",
        "import matplotlib.pyplot as plt\n",
        "import torchvision.transforms as transforms\n",
        "from torch.utils.data.dataloader import DataLoader\n",
        "import torch.nn as nn\n",
        "import matplotlib.pyplot as plt\n"
      ]
    },
    {
      "cell_type": "code",
      "source": [
        "transform_operation = transforms.Compose(\n",
        "    [transforms.ToTensor()] # convert PLT format to tensor format\n",
        ")"
      ],
      "metadata": {
        "id": "VQAX2TL1PMMu"
      },
      "execution_count": 3,
      "outputs": []
    },
    {
      "cell_type": "code",
      "source": [
        "train_dataset = torchvision.datasets.MNIST(\n",
        "    root = './data',\n",
        "    train = True,\n",
        "    download = True,\n",
        "    transform = transform_operation\n",
        ")\n",
        "val_dataset = torchvision.datasets.MNIST(\n",
        "    root = './data',\n",
        "    train = False,\n",
        "    download = True,\n",
        "    transform = transform_operation\n",
        ")"
      ],
      "metadata": {
        "colab": {
          "base_uri": "https://localhost:8080/"
        },
        "id": "8cVEjlDSQVlG",
        "outputId": "c7c87129-5b7a-407a-c9be-498b7187395e"
      },
      "execution_count": 4,
      "outputs": [
        {
          "output_type": "stream",
          "name": "stderr",
          "text": [
            "100%|██████████| 9.91M/9.91M [00:00<00:00, 21.1MB/s]\n",
            "100%|██████████| 28.9k/28.9k [00:00<00:00, 494kB/s]\n",
            "100%|██████████| 1.65M/1.65M [00:00<00:00, 4.57MB/s]\n",
            "100%|██████████| 4.54k/4.54k [00:00<00:00, 13.0MB/s]\n"
          ]
        }
      ]
    },
    {
      "cell_type": "markdown",
      "source": [
        "## variable define"
      ],
      "metadata": {
        "id": "kcXKNyBjd6OS"
      }
    },
    {
      "cell_type": "code",
      "source": [
        "batch_size = 64\n",
        "img_size = 28\n",
        "patch_size = 7\n",
        "num_patches = (img_size // patch_size) ** 2\n",
        "projection_dim = 64\n",
        "embed_dim = 20\n",
        "num_heads = 4\n",
        "num_channels = 1\n",
        "num_classes = 10\n",
        "num_block = 4\n",
        "epochs = 15"
      ],
      "metadata": {
        "id": "x_jvh3b3U6CN"
      },
      "execution_count": 5,
      "outputs": []
    },
    {
      "cell_type": "code",
      "source": [
        "train_data= DataLoader(train_dataset, shuffle=True, batch_size=batch_size)\n",
        "val_data= DataLoader(val_dataset, shuffle=True, batch_size=batch_size)"
      ],
      "metadata": {
        "id": "_PFRrYxWgVvZ"
      },
      "execution_count": 6,
      "outputs": []
    },
    {
      "cell_type": "markdown",
      "source": [
        "## visualizing code of patch_embedding class\n"
      ],
      "metadata": {
        "id": "S8Q0ZCtzuvh7"
      }
    },
    {
      "cell_type": "code",
      "source": [
        "img,batch_size = next(iter(train_data))\n",
        "print(img.shape)\n",
        "\n",
        "patch_layer = nn.Conv2d(in_channels=num_channels, out_channels=embed_dim, kernel_size=patch_size, stride=patch_size)\n",
        "patch_embedding = patch_layer(img)\n",
        "print(patch_embedding.shape)\n",
        "patch_embedding = patch_embedding.flatten(2)\n",
        "print(patch_embedding.shape)\n",
        "patch_embedding = patch_embedding.transpose(1,2)\n",
        "print(patch_embedding.shape) # (B,P,E)"
      ],
      "metadata": {
        "colab": {
          "base_uri": "https://localhost:8080/"
        },
        "id": "kB-ik4BnivyB",
        "outputId": "e5711781-0246-4e08-d86d-1a472056e647"
      },
      "execution_count": 7,
      "outputs": [
        {
          "output_type": "stream",
          "name": "stdout",
          "text": [
            "torch.Size([64, 1, 28, 28])\n",
            "torch.Size([64, 20, 4, 4])\n",
            "torch.Size([64, 20, 16])\n",
            "torch.Size([64, 16, 20])\n"
          ]
        }
      ]
    },
    {
      "cell_type": "markdown",
      "source": [
        "## patch_embeding class"
      ],
      "metadata": {
        "id": "fzl99FcWnEiE"
      }
    },
    {
      "cell_type": "code",
      "source": [
        "class patch_embedding(nn.Module):\n",
        "  def __init__(self):\n",
        "    super().__init__()\n",
        "    self.patch_layer = nn.Conv2d(in_channels=num_channels, out_channels=embed_dim,kernel_size=patch_size,stride=patch_size)\n",
        "  def forward(self,x):\n",
        "    return self.patch_layer(x).flatten(2).transpose(1,2)"
      ],
      "metadata": {
        "id": "-h3i_bsguS5j"
      },
      "execution_count": 8,
      "outputs": []
    },
    {
      "cell_type": "markdown",
      "source": [
        "## transfomer encodder class\n",
        "- layer norm1\n",
        "- multihead attention\n",
        "- layer norm2\n",
        "- mlp\n",
        "\n",
        "\n"
      ],
      "metadata": {
        "id": "CY8J5Qb5tBhF"
      }
    },
    {
      "cell_type": "code",
      "source": [],
      "metadata": {
        "colab": {
          "base_uri": "https://localhost:8080/"
        },
        "id": "1T-xuz180PVs",
        "outputId": "bac9c0ad-9e47-4140-f5d9-c5da957664bf"
      },
      "execution_count": 19,
      "outputs": [
        {
          "output_type": "stream",
          "name": "stdout",
          "text": [
            "data  sample_data  transformer.png\n"
          ]
        }
      ]
    },
    {
      "cell_type": "code",
      "source": [
        "class transformer_encoder(nn.Module):\n",
        "  def __init__(self):\n",
        "    super().__init__()\n",
        "    self.norm1 = nn.LayerNorm(embed_dim)\n",
        "    self.multihead_attention = nn.MultiheadAttention(embed_dim,num_heads, batch_first=True)\n",
        "    self.norm2 = nn.LayerNorm(embed_dim)\n",
        "    self.mlp = nn.Sequential(\n",
        "        nn.Linear(embed_dim,embed_dim*4),\n",
        "        nn.GELU(),\n",
        "        nn.Linear(embed_dim*4,embed_dim)\n",
        "    )\n",
        "\n",
        "  def forward(self,x):\n",
        "    residual1 = x\n",
        "    x = self.norm1(x)\n",
        "    x = residual1 + self.multihead_attention(x,x,x)[0]\n",
        "    residual2 = x\n",
        "    x = self.norm2(x)\n",
        "    x = residual2 + self.mlp(x)\n",
        "    return x"
      ],
      "metadata": {
        "id": "cFknT1cGtR-d"
      },
      "execution_count": 9,
      "outputs": []
    },
    {
      "cell_type": "markdown",
      "source": [
        "## MLP head class\n"
      ],
      "metadata": {
        "id": "PsI79WFN6gaQ"
      }
    },
    {
      "cell_type": "code",
      "source": [
        "class MLP_head(nn.Module):\n",
        "  def __init__(self):\n",
        "    super().__init__()\n",
        "    self.norm = nn.LayerNorm(embed_dim)\n",
        "    self.mlp_head = nn.Sequential(\n",
        "\n",
        "        nn.Linear(embed_dim,num_classes)\n",
        "    )\n",
        "\n",
        "  def forward(self,x):\n",
        "    x = self.norm(x)\n",
        "    return self.mlp_head(x)"
      ],
      "metadata": {
        "id": "q2-DIqKp6k3v"
      },
      "execution_count": 10,
      "outputs": []
    },
    {
      "cell_type": "markdown",
      "source": [
        "## vision transformer class"
      ],
      "metadata": {
        "id": "OQHBE3mGMFfJ"
      }
    },
    {
      "cell_type": "code",
      "source": [
        "class Vision_transformer(nn.Module):\n",
        "  def __init__(self):\n",
        "    super().__init__()\n",
        "    self.patch_embedding = patch_embedding()\n",
        "    self.cls = nn.Parameter(torch.randn(1,1,embed_dim))\n",
        "    self.pos_embedding = nn.Parameter(torch.randn(1,num_patches+1,embed_dim))\n",
        "    self.transformer_encoder = nn.Sequential(*[transformer_encoder() for _ in range(num_block)])\n",
        "    self.mlp_head = MLP_head()\n",
        "\n",
        "  def forward(self,x):\n",
        "    x = self.patch_embedding(x) #(B,P,E)\n",
        "    cls = self.cls.repeat(x.shape[0],1,1) #(B,1,E)\n",
        "    x = torch.cat([cls,x],dim=1) #(B,P+1,E)\n",
        "    x = x + self.pos_embedding #(B,P+1,E)\n",
        "    x = self.transformer_encoder(x)\n",
        "    return self.mlp_head(x[:,0])\n"
      ],
      "metadata": {
        "id": "KdfaVDdZMH5R"
      },
      "execution_count": 11,
      "outputs": []
    },
    {
      "cell_type": "markdown",
      "source": [
        "## pre-model process"
      ],
      "metadata": {
        "id": "2vo9oqZdKQkQ"
      }
    },
    {
      "cell_type": "code",
      "source": [
        "device = torch.device('cuda' if torch.cuda.is_available() else 'cpu')\n",
        "model = Vision_transformer().to(device)\n",
        "optimizer = torch.optim.Adam(model.parameters(), lr = 0.01)\n",
        "criterion = nn.CrossEntropyLoss()\n"
      ],
      "metadata": {
        "id": "ibCkFjpAKN_a"
      },
      "execution_count": 12,
      "outputs": []
    },
    {
      "cell_type": "markdown",
      "source": [
        "## training part"
      ],
      "metadata": {
        "id": "mmE5NB6MRg7V"
      }
    },
    {
      "cell_type": "code",
      "source": [
        "for ep in range(epochs):\n",
        "\n",
        "  model.train()\n",
        "  correct_img = 0\n",
        "  total_img = 0\n",
        "\n",
        "  for idx,(img,label) in enumerate(train_data):\n",
        "    img = img.to(device)\n",
        "    label = label.to(device)\n",
        "\n",
        "    optimizer.zero_grad()\n",
        "    output = model(img) #forward pass\n",
        "    loss = criterion(output,label)\n",
        "    loss.backward() #backward pass\n",
        "    optimizer.step() #update\n",
        "\n",
        "\n",
        "    prediction = output.argmax(dim = 1)\n",
        "    correct_predict = (prediction == label).sum().item()\n",
        "    correct_img += correct_predict\n",
        "    total_img += label.size(0)\n",
        "\n",
        "    if idx%100 == 0:\n",
        "      print(f'epochs: {ep+1}  loss: {loss}  accuracy:{correct_img/total_img}')\n",
        "\n",
        "\n",
        "\n"
      ],
      "metadata": {
        "colab": {
          "base_uri": "https://localhost:8080/"
        },
        "id": "An6RM6TcLxh-",
        "outputId": "2e38480a-64b9-4f66-bee9-2deaf9feb978"
      },
      "execution_count": 13,
      "outputs": [
        {
          "output_type": "stream",
          "name": "stdout",
          "text": [
            "epochs: 1  loss: 2.4396932125091553  accuracy:0.09375\n",
            "epochs: 1  loss: 0.8925008177757263  accuracy:0.5151608910891089\n",
            "epochs: 1  loss: 0.40883609652519226  accuracy:0.6798818407960199\n",
            "epochs: 1  loss: 0.39791780710220337  accuracy:0.7492732558139535\n",
            "epochs: 1  loss: 0.24345283210277557  accuracy:0.7880688902743143\n",
            "epochs: 1  loss: 0.3443039655685425  accuracy:0.8131549401197605\n",
            "epochs: 1  loss: 0.20344600081443787  accuracy:0.83056884359401\n",
            "epochs: 1  loss: 0.2045154869556427  accuracy:0.8447530313837375\n",
            "epochs: 1  loss: 0.23795126378536224  accuracy:0.8552200374531835\n",
            "epochs: 1  loss: 0.36950191855430603  accuracy:0.8634850166481687\n",
            "epochs: 2  loss: 0.07129597663879395  accuracy:0.984375\n",
            "epochs: 2  loss: 0.12436148524284363  accuracy:0.937190594059406\n",
            "epochs: 2  loss: 0.18988889455795288  accuracy:0.9430970149253731\n",
            "epochs: 2  loss: 0.07458676397800446  accuracy:0.9413413621262459\n",
            "epochs: 2  loss: 0.16711410880088806  accuracy:0.9408509975062345\n",
            "epochs: 2  loss: 0.1446797251701355  accuracy:0.9414920159680639\n",
            "epochs: 2  loss: 0.2021045982837677  accuracy:0.9418677204658902\n",
            "epochs: 2  loss: 0.10692275315523148  accuracy:0.9429832382310984\n",
            "epochs: 2  loss: 0.13644413650035858  accuracy:0.9446395131086143\n",
            "epochs: 2  loss: 0.19269371032714844  accuracy:0.9459281354051055\n",
            "epochs: 3  loss: 0.24602192640304565  accuracy:0.9375\n",
            "epochs: 3  loss: 0.15671640634536743  accuracy:0.9565284653465347\n",
            "epochs: 3  loss: 0.0452110730111599  accuracy:0.9543687810945274\n",
            "epochs: 3  loss: 0.034775011241436005  accuracy:0.9548380398671097\n",
            "epochs: 3  loss: 0.17236675322055817  accuracy:0.9552680798004988\n",
            "epochs: 3  loss: 0.17874056100845337  accuracy:0.955308133732535\n",
            "epochs: 3  loss: 0.08038723468780518  accuracy:0.9548408901830283\n",
            "epochs: 3  loss: 0.1620011031627655  accuracy:0.9554431169757489\n",
            "epochs: 3  loss: 0.03828660398721695  accuracy:0.9557974406991261\n",
            "epochs: 3  loss: 0.1576107144355774  accuracy:0.9564199500554939\n",
            "epochs: 4  loss: 0.07548172771930695  accuracy:0.96875\n",
            "epochs: 4  loss: 0.37821781635284424  accuracy:0.9675123762376238\n",
            "epochs: 4  loss: 0.07884859293699265  accuracy:0.9651741293532339\n",
            "epochs: 4  loss: 0.03798070549964905  accuracy:0.9645971760797342\n",
            "epochs: 4  loss: 0.10764341056346893  accuracy:0.9637235037406484\n",
            "epochs: 4  loss: 0.08091359585523605  accuracy:0.9626996007984032\n",
            "epochs: 4  loss: 0.13234326243400574  accuracy:0.9625363976705491\n",
            "epochs: 4  loss: 0.11171134561300278  accuracy:0.9627095221112696\n",
            "epochs: 4  loss: 0.04353155940771103  accuracy:0.9625273096129837\n",
            "epochs: 4  loss: 0.1438899040222168  accuracy:0.9623855438401776\n",
            "epochs: 5  loss: 0.11035582423210144  accuracy:0.953125\n",
            "epochs: 5  loss: 0.1743629276752472  accuracy:0.9668935643564357\n",
            "epochs: 5  loss: 0.31429585814476013  accuracy:0.9661069651741293\n",
            "epochs: 5  loss: 0.01392442174255848  accuracy:0.9657392026578073\n",
            "epochs: 5  loss: 0.028387457132339478  accuracy:0.9655938279301746\n",
            "epochs: 5  loss: 0.06591905653476715  accuracy:0.9655376746506986\n",
            "epochs: 5  loss: 0.05517799034714699  accuracy:0.9656042013311148\n",
            "epochs: 5  loss: 0.19423289597034454  accuracy:0.9660975392296719\n",
            "epochs: 5  loss: 0.07942479848861694  accuracy:0.9666237515605494\n",
            "epochs: 5  loss: 0.1494373083114624  accuracy:0.966322142064373\n",
            "epochs: 6  loss: 0.15531861782073975  accuracy:0.921875\n",
            "epochs: 6  loss: 0.1392342448234558  accuracy:0.96875\n",
            "epochs: 6  loss: 0.055421315133571625  accuracy:0.96875\n",
            "epochs: 6  loss: 0.11487551778554916  accuracy:0.9667254983388704\n",
            "epochs: 6  loss: 0.05096590518951416  accuracy:0.9666458852867831\n",
            "epochs: 6  loss: 0.13779805600643158  accuracy:0.9669099301397206\n",
            "epochs: 6  loss: 0.10727515816688538  accuracy:0.9670081114808652\n",
            "epochs: 6  loss: 0.045167259871959686  accuracy:0.9664764621968617\n",
            "epochs: 6  loss: 0.14482757449150085  accuracy:0.9674235330836455\n",
            "epochs: 6  loss: 0.14129707217216492  accuracy:0.9680563263041065\n",
            "epochs: 7  loss: 0.10561881214380264  accuracy:0.953125\n",
            "epochs: 7  loss: 0.10817204415798187  accuracy:0.9715346534653465\n",
            "epochs: 7  loss: 0.10178085416555405  accuracy:0.9713930348258707\n",
            "epochs: 7  loss: 0.038713302463293076  accuracy:0.970359219269103\n",
            "epochs: 7  loss: 0.17836524546146393  accuracy:0.9699968827930174\n",
            "epochs: 7  loss: 0.07267296314239502  accuracy:0.9701534431137725\n",
            "epochs: 7  loss: 0.17022500932216644  accuracy:0.9695039517470881\n",
            "epochs: 7  loss: 0.14286096394062042  accuracy:0.969953637660485\n",
            "epochs: 7  loss: 0.04790227860212326  accuracy:0.969647315855181\n",
            "epochs: 7  loss: 0.02945222705602646  accuracy:0.9691662042175361\n",
            "epochs: 8  loss: 0.025991976261138916  accuracy:1.0\n",
            "epochs: 8  loss: 0.19909775257110596  accuracy:0.9744740099009901\n",
            "epochs: 8  loss: 0.09866794943809509  accuracy:0.9738805970149254\n",
            "epochs: 8  loss: 0.10692115128040314  accuracy:0.9740448504983389\n",
            "epochs: 8  loss: 0.03738769143819809  accuracy:0.973698566084788\n",
            "epochs: 8  loss: 0.11060954630374908  accuracy:0.9722742015968064\n",
            "epochs: 8  loss: 0.06764541566371918  accuracy:0.9723377703826955\n",
            "epochs: 8  loss: 0.2598019242286682  accuracy:0.9719374108416547\n",
            "epochs: 8  loss: 0.10025240480899811  accuracy:0.9716760299625468\n",
            "epochs: 8  loss: 0.16755422949790955  accuracy:0.9714033018867925\n",
            "epochs: 9  loss: 0.058238010853528976  accuracy:0.984375\n",
            "epochs: 9  loss: 0.0839615911245346  accuracy:0.9689047029702971\n",
            "epochs: 9  loss: 0.017640618607401848  accuracy:0.9720926616915423\n",
            "epochs: 9  loss: 0.15079531073570251  accuracy:0.9724356312292359\n",
            "epochs: 9  loss: 0.3128857910633087  accuracy:0.9714385910224439\n",
            "epochs: 9  loss: 0.03594302758574486  accuracy:0.9706524451097804\n",
            "epochs: 9  loss: 0.055696360766887665  accuracy:0.971297836938436\n",
            "epochs: 9  loss: 0.0438801571726799  accuracy:0.9722494650499287\n",
            "epochs: 9  loss: 0.08669092506170273  accuracy:0.9721637016229713\n",
            "epochs: 9  loss: 0.09784413874149323  accuracy:0.9723397613762487\n",
            "epochs: 10  loss: 0.06658318638801575  accuracy:0.984375\n",
            "epochs: 10  loss: 0.09462074190378189  accuracy:0.9780321782178217\n",
            "epochs: 10  loss: 0.09324181079864502  accuracy:0.976523631840796\n",
            "epochs: 10  loss: 0.0267038531601429  accuracy:0.9748235049833887\n",
            "epochs: 10  loss: 0.04449446499347687  accuracy:0.9748675187032418\n",
            "epochs: 10  loss: 0.04380891099572182  accuracy:0.9753929640718563\n",
            "epochs: 10  loss: 0.14117440581321716  accuracy:0.9753535773710482\n",
            "epochs: 10  loss: 0.019372228533029556  accuracy:0.9743001069900142\n",
            "epochs: 10  loss: 0.028442667797207832  accuracy:0.974250936329588\n",
            "epochs: 10  loss: 0.04003673046827316  accuracy:0.9737791342952276\n",
            "epochs: 11  loss: 0.04248473048210144  accuracy:0.96875\n",
            "epochs: 11  loss: 0.1617598682641983  accuracy:0.9786509900990099\n",
            "epochs: 11  loss: 0.05825858563184738  accuracy:0.9780783582089553\n",
            "epochs: 11  loss: 0.11073656380176544  accuracy:0.9759136212624585\n",
            "epochs: 11  loss: 0.23067860305309296  accuracy:0.9757247506234414\n",
            "epochs: 11  loss: 0.07915515452623367  accuracy:0.9757048403193613\n",
            "epochs: 11  loss: 0.06859081238508224  accuracy:0.9751715890183028\n",
            "epochs: 11  loss: 0.10895245522260666  accuracy:0.9751025320970043\n",
            "epochs: 11  loss: 0.09111145883798599  accuracy:0.9747386079900124\n",
            "epochs: 11  loss: 0.0315854549407959  accuracy:0.9748716703662597\n",
            "epochs: 12  loss: 0.10999837517738342  accuracy:0.96875\n",
            "epochs: 12  loss: 0.031802404671907425  accuracy:0.9744740099009901\n",
            "epochs: 12  loss: 0.07743684947490692  accuracy:0.9748911691542289\n",
            "epochs: 12  loss: 0.013815280050039291  accuracy:0.9742005813953488\n",
            "epochs: 12  loss: 0.03840011730790138  accuracy:0.9745947630922693\n",
            "epochs: 12  loss: 0.11483034491539001  accuracy:0.9752994011976048\n",
            "epochs: 12  loss: 0.17803148925304413  accuracy:0.9751455906821963\n",
            "epochs: 12  loss: 0.20213282108306885  accuracy:0.9751471112696148\n",
            "epochs: 12  loss: 0.06288768351078033  accuracy:0.9754408551810237\n",
            "epochs: 12  loss: 0.018713172525167465  accuracy:0.9753052164261932\n",
            "epochs: 13  loss: 0.020109787583351135  accuracy:1.0\n",
            "epochs: 13  loss: 0.04984191060066223  accuracy:0.9811262376237624\n",
            "epochs: 13  loss: 0.03559363633394241  accuracy:0.9795553482587065\n",
            "epochs: 13  loss: 0.03941638395190239  accuracy:0.9774190199335548\n",
            "epochs: 13  loss: 0.061613015830516815  accuracy:0.9775561097256857\n",
            "epochs: 13  loss: 0.09738413989543915  accuracy:0.9771706586826348\n",
            "epochs: 13  loss: 0.15648405253887177  accuracy:0.9767054908485857\n",
            "epochs: 13  loss: 0.10807456821203232  accuracy:0.9766850927246791\n",
            "epochs: 13  loss: 0.07701833546161652  accuracy:0.9763966916354557\n",
            "epochs: 13  loss: 0.055954709649086  accuracy:0.9765538290788013\n",
            "epochs: 14  loss: 0.012347927317023277  accuracy:1.0\n",
            "epochs: 14  loss: 0.15930864214897156  accuracy:0.9771039603960396\n",
            "epochs: 14  loss: 0.08115892857313156  accuracy:0.9761349502487562\n",
            "epochs: 14  loss: 0.023812012746930122  accuracy:0.9757059800664452\n",
            "epochs: 14  loss: 0.042775414884090424  accuracy:0.9762312967581047\n",
            "epochs: 14  loss: 0.03433406725525856  accuracy:0.9754865269461078\n",
            "epochs: 14  loss: 0.009828904643654823  accuracy:0.97608153078203\n",
            "epochs: 14  loss: 0.10809597373008728  accuracy:0.9763284593437945\n",
            "epochs: 14  loss: 0.2011650800704956  accuracy:0.9768063358302123\n",
            "epochs: 14  loss: 0.06253286451101303  accuracy:0.9765191453940066\n",
            "epochs: 15  loss: 0.018146561458706856  accuracy:1.0\n",
            "epochs: 15  loss: 0.006154763977974653  accuracy:0.979115099009901\n",
            "epochs: 15  loss: 0.01786182075738907  accuracy:0.9814210199004975\n",
            "epochs: 15  loss: 0.06909868121147156  accuracy:0.9800664451827242\n",
            "epochs: 15  loss: 0.01157953217625618  accuracy:0.9797771197007481\n",
            "epochs: 15  loss: 0.018078522756695747  accuracy:0.9791042914171657\n",
            "epochs: 15  loss: 0.10381347686052322  accuracy:0.9786293677204659\n",
            "epochs: 15  loss: 0.12638477981090546  accuracy:0.978289942938659\n",
            "epochs: 15  loss: 0.12144619226455688  accuracy:0.9775085830212235\n",
            "epochs: 15  loss: 0.2095896601676941  accuracy:0.9776983906770256\n"
          ]
        }
      ]
    },
    {
      "cell_type": "markdown",
      "source": [
        "## validation"
      ],
      "metadata": {
        "id": "ttCwmwddhNCd"
      }
    },
    {
      "cell_type": "code",
      "source": [
        "\n",
        "correct_img = 0\n",
        "total_img = 0\n",
        "model.eval()\n",
        "\n",
        "with torch.no_grad():\n",
        "  for idx,(img,label) in enumerate(val_data):\n",
        "    img,label = img.to(device),label.to(device)\n",
        "    output = model(img)\n",
        "    pred = output.argmax(dim = 1)\n",
        "    correct_predict = (pred == label).sum().item()\n",
        "    correct_img += correct_predict\n",
        "    total_img += label.size(0)\n",
        "    if idx%100 == 0:\n",
        "      print(f'accuracy:{correct_img/total_img}')\n"
      ],
      "metadata": {
        "colab": {
          "base_uri": "https://localhost:8080/"
        },
        "id": "MuMX3NJbTmyo",
        "outputId": "c818326d-a0bc-46c7-fa85-3c91b4e64976"
      },
      "execution_count": 14,
      "outputs": [
        {
          "output_type": "stream",
          "name": "stdout",
          "text": [
            "accuracy:0.984375\n",
            "accuracy:0.974319306930693\n"
          ]
        }
      ]
    },
    {
      "cell_type": "code",
      "source": [
        "\n",
        "img,label = next(iter(val_data))\n",
        "img,label = img.to(device),label.to(device)\n",
        "\n",
        "with torch.no_grad():\n",
        "  output = model(img)\n",
        "  pred = output.argmax(dim = 1)\n",
        "\n",
        "plt.figure(figsize=(12,4))\n",
        "for idx in range(12):\n",
        "  plt.subplot(2,6,idx+1)\n",
        "  plt.imshow(img[idx].squeeze().cpu(),cmap='gray')\n",
        "  plt.title(f'pred:{pred[idx].item()}  label:{label[idx].item()}')\n",
        "  plt.axis('off')"
      ],
      "metadata": {
        "colab": {
          "base_uri": "https://localhost:8080/",
          "height": 346
        },
        "id": "CElaYBQgnxx-",
        "outputId": "f161f9e9-fe69-4f3a-d1d0-0b5fbc00796a"
      },
      "execution_count": 18,
      "outputs": [
        {
          "output_type": "display_data",
          "data": {
            "text/plain": [
              "<Figure size 1200x400 with 12 Axes>"
            ],
            "image/png": "[encoded data removed]"
          },
          "metadata": {}
        }
      ]
    },
    {
      "cell_type": "code",
      "source": [],
      "metadata": {
        "id": "6Qe7msHzw7j9"
      },
      "execution_count": null,
      "outputs": []
    }
  ]
}